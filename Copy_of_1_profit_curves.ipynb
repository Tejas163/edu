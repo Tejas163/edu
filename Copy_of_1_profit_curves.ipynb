{
  "cells": [
    {
      "cell_type": "markdown",
      "metadata": {
        "id": "view-in-github",
        "colab_type": "text"
      },
      "source": [
        "<a href=\"https://colab.research.google.com/github/Tejas163/edu/blob/main/Copy_of_1_profit_curves.ipynb\" target=\"_parent\"><img src=\"https://colab.research.google.com/assets/colab-badge.svg\" alt=\"Open In Colab\"/></a>"
      ]
    },
    {
      "cell_type": "markdown",
      "metadata": {
        "id": "afhZtuD3VV1f"
      },
      "source": [
        "<a href=\"https://colab.research.google.com/github/wandb/edu/blob/main/decision-opt-course/1_profit_curves.ipynb\" target=\"_parent\"><img src=\"https://colab.research.google.com/assets/colab-badge.svg\" alt=\"Open In Colab\"/></a>\n",
        "<!--- @wandbcode{decisionopt-nb1} -->"
      ]
    },
    {
      "cell_type": "markdown",
      "metadata": {
        "id": "3U-ZQB2fVV1h"
      },
      "source": [
        "# Lesson 1 - Profit Curves"
      ]
    },
    {
      "cell_type": "markdown",
      "metadata": {
        "id": "wRPPhTfOVV1i"
      },
      "source": [
        "## A Basic Model As A Starting Point\n",
        "\n",
        "Model building isn't our focus, so I won't go into great depth on this. Data is from [this dataset](https://www.kaggle.com/datasets/blastchar/telco-customer-churn) to predict churn from a telecom company."
      ]
    },
    {
      "cell_type": "code",
      "execution_count": 1,
      "metadata": {
        "id": "aKf0kiNSVV1i",
        "colab": {
          "base_uri": "https://localhost:8080/"
        },
        "outputId": "320af7c4-e2ab-44d6-aaf7-a389be7c42f9"
      },
      "outputs": [
        {
          "output_type": "stream",
          "name": "stdout",
          "text": [
            "Collecting wandb\n",
            "  Downloading wandb-0.15.10-py3-none-any.whl (2.1 MB)\n",
            "\u001b[2K     \u001b[90m━━━━━━━━━━━━━━━━━━━━━━━━━━━━━━━━━━━━━━━━\u001b[0m \u001b[32m2.1/2.1 MB\u001b[0m \u001b[31m10.6 MB/s\u001b[0m eta \u001b[36m0:00:00\u001b[0m\n",
            "\u001b[?25hRequirement already satisfied: xgboost in /usr/local/lib/python3.10/dist-packages (1.7.6)\n",
            "Requirement already satisfied: Click!=8.0.0,>=7.1 in /usr/local/lib/python3.10/dist-packages (from wandb) (8.1.7)\n",
            "Collecting GitPython!=3.1.29,>=1.0.0 (from wandb)\n",
            "  Downloading GitPython-3.1.36-py3-none-any.whl (189 kB)\n",
            "\u001b[2K     \u001b[90m━━━━━━━━━━━━━━━━━━━━━━━━━━━━━━━━━━━━━━\u001b[0m \u001b[32m189.5/189.5 kB\u001b[0m \u001b[31m13.3 MB/s\u001b[0m eta \u001b[36m0:00:00\u001b[0m\n",
            "\u001b[?25hRequirement already satisfied: requests<3,>=2.0.0 in /usr/local/lib/python3.10/dist-packages (from wandb) (2.31.0)\n",
            "Requirement already satisfied: psutil>=5.0.0 in /usr/local/lib/python3.10/dist-packages (from wandb) (5.9.5)\n",
            "Collecting sentry-sdk>=1.0.0 (from wandb)\n",
            "  Downloading sentry_sdk-1.31.0-py2.py3-none-any.whl (224 kB)\n",
            "\u001b[2K     \u001b[90m━━━━━━━━━━━━━━━━━━━━━━━━━━━━━━━━━━━━━━\u001b[0m \u001b[32m224.8/224.8 kB\u001b[0m \u001b[31m18.7 MB/s\u001b[0m eta \u001b[36m0:00:00\u001b[0m\n",
            "\u001b[?25hCollecting docker-pycreds>=0.4.0 (from wandb)\n",
            "  Downloading docker_pycreds-0.4.0-py2.py3-none-any.whl (9.0 kB)\n",
            "Requirement already satisfied: PyYAML in /usr/local/lib/python3.10/dist-packages (from wandb) (6.0.1)\n",
            "Collecting pathtools (from wandb)\n",
            "  Downloading pathtools-0.1.2.tar.gz (11 kB)\n",
            "  Preparing metadata (setup.py) ... \u001b[?25l\u001b[?25hdone\n",
            "Collecting setproctitle (from wandb)\n",
            "  Downloading setproctitle-1.3.2-cp310-cp310-manylinux_2_5_x86_64.manylinux1_x86_64.manylinux_2_17_x86_64.manylinux2014_x86_64.whl (30 kB)\n",
            "Requirement already satisfied: setuptools in /usr/local/lib/python3.10/dist-packages (from wandb) (67.7.2)\n",
            "Requirement already satisfied: appdirs>=1.4.3 in /usr/local/lib/python3.10/dist-packages (from wandb) (1.4.4)\n",
            "Requirement already satisfied: protobuf!=4.21.0,<5,>=3.19.0 in /usr/local/lib/python3.10/dist-packages (from wandb) (3.20.3)\n",
            "Requirement already satisfied: numpy in /usr/local/lib/python3.10/dist-packages (from xgboost) (1.23.5)\n",
            "Requirement already satisfied: scipy in /usr/local/lib/python3.10/dist-packages (from xgboost) (1.11.2)\n",
            "Requirement already satisfied: six>=1.4.0 in /usr/local/lib/python3.10/dist-packages (from docker-pycreds>=0.4.0->wandb) (1.16.0)\n",
            "Collecting gitdb<5,>=4.0.1 (from GitPython!=3.1.29,>=1.0.0->wandb)\n",
            "  Downloading gitdb-4.0.10-py3-none-any.whl (62 kB)\n",
            "\u001b[2K     \u001b[90m━━━━━━━━━━━━━━━━━━━━━━━━━━━━━━━━━━━━━━━━\u001b[0m \u001b[32m62.7/62.7 kB\u001b[0m \u001b[31m6.7 MB/s\u001b[0m eta \u001b[36m0:00:00\u001b[0m\n",
            "\u001b[?25hRequirement already satisfied: charset-normalizer<4,>=2 in /usr/local/lib/python3.10/dist-packages (from requests<3,>=2.0.0->wandb) (3.2.0)\n",
            "Requirement already satisfied: idna<4,>=2.5 in /usr/local/lib/python3.10/dist-packages (from requests<3,>=2.0.0->wandb) (3.4)\n",
            "Requirement already satisfied: urllib3<3,>=1.21.1 in /usr/local/lib/python3.10/dist-packages (from requests<3,>=2.0.0->wandb) (2.0.4)\n",
            "Requirement already satisfied: certifi>=2017.4.17 in /usr/local/lib/python3.10/dist-packages (from requests<3,>=2.0.0->wandb) (2023.7.22)\n",
            "Collecting smmap<6,>=3.0.1 (from gitdb<5,>=4.0.1->GitPython!=3.1.29,>=1.0.0->wandb)\n",
            "  Downloading smmap-5.0.1-py3-none-any.whl (24 kB)\n",
            "Building wheels for collected packages: pathtools\n",
            "  Building wheel for pathtools (setup.py) ... \u001b[?25l\u001b[?25hdone\n",
            "  Created wheel for pathtools: filename=pathtools-0.1.2-py3-none-any.whl size=8791 sha256=4aafc664ba53ecccd7698d554eb5088510c4d78695c99f749b8f4d5854cdf594\n",
            "  Stored in directory: /root/.cache/pip/wheels/e7/f3/22/152153d6eb222ee7a56ff8617d80ee5207207a8c00a7aab794\n",
            "Successfully built pathtools\n",
            "Installing collected packages: pathtools, smmap, setproctitle, sentry-sdk, docker-pycreds, gitdb, GitPython, wandb\n",
            "Successfully installed GitPython-3.1.36 docker-pycreds-0.4.0 gitdb-4.0.10 pathtools-0.1.2 sentry-sdk-1.31.0 setproctitle-1.3.2 smmap-5.0.1 wandb-0.15.10\n"
          ]
        }
      ],
      "source": [
        "%pip install wandb xgboost"
      ]
    },
    {
      "cell_type": "code",
      "execution_count": 2,
      "metadata": {
        "id": "C44VUPR3VV1j"
      },
      "outputs": [],
      "source": [
        "import pandas as pd\n",
        "import matplotlib.pyplot as plt\n",
        "import wandb\n",
        "from sklearn.model_selection import train_test_split\n",
        "from sklearn.pipeline import Pipeline\n",
        "from sklearn.compose import ColumnTransformer\n",
        "from sklearn.preprocessing import OneHotEncoder\n",
        "from sklearn.metrics import roc_auc_score, log_loss\n",
        "from sklearn.compose import make_column_selector as selector\n",
        "from wandb.xgboost import WandbCallback\n",
        "from xgboost import XGBClassifier\n",
        "from pathlib import Path\n",
        "\n",
        "plt.style.use('fivethirtyeight')"
      ]
    },
    {
      "cell_type": "code",
      "source": [
        "api=wandb.Api()"
      ],
      "metadata": {
        "colab": {
          "base_uri": "https://localhost:8080/",
          "height": 328
        },
        "id": "fCRPOK-XZGe-",
        "outputId": "b82c79d7-166c-443b-ee3b-5422ac7b010b"
      },
      "execution_count": 8,
      "outputs": [
        {
          "output_type": "error",
          "ename": "UsageError",
          "evalue": "ignored",
          "traceback": [
            "\u001b[0;31m---------------------------------------------------------------------------\u001b[0m",
            "\u001b[0;31mUsageError\u001b[0m                                Traceback (most recent call last)",
            "\u001b[0;32m<ipython-input-8-702281b047b4>\u001b[0m in \u001b[0;36m<cell line: 1>\u001b[0;34m()\u001b[0m\n\u001b[0;32m----> 1\u001b[0;31m \u001b[0mapi\u001b[0m\u001b[0;34m=\u001b[0m\u001b[0mwandb\u001b[0m\u001b[0;34m.\u001b[0m\u001b[0mApi\u001b[0m\u001b[0;34m(\u001b[0m\u001b[0;34m)\u001b[0m\u001b[0;34m\u001b[0m\u001b[0;34m\u001b[0m\u001b[0m\n\u001b[0m",
            "\u001b[0;32m/usr/local/lib/python3.10/dist-packages/wandb/apis/public.py\u001b[0m in \u001b[0;36m__init__\u001b[0;34m(self, overrides, timeout, api_key)\u001b[0m\n\u001b[1;32m    377\u001b[0m         \u001b[0mself\u001b[0m\u001b[0;34m.\u001b[0m\u001b[0m_api_key\u001b[0m \u001b[0;34m=\u001b[0m \u001b[0mapi_key\u001b[0m\u001b[0;34m\u001b[0m\u001b[0;34m\u001b[0m\u001b[0m\n\u001b[1;32m    378\u001b[0m         \u001b[0;32mif\u001b[0m \u001b[0mself\u001b[0m\u001b[0;34m.\u001b[0m\u001b[0mapi_key\u001b[0m \u001b[0;32mis\u001b[0m \u001b[0;32mNone\u001b[0m \u001b[0;32mand\u001b[0m \u001b[0m_thread_local_api_settings\u001b[0m\u001b[0;34m.\u001b[0m\u001b[0mcookies\u001b[0m \u001b[0;32mis\u001b[0m \u001b[0;32mNone\u001b[0m\u001b[0;34m:\u001b[0m\u001b[0;34m\u001b[0m\u001b[0;34m\u001b[0m\u001b[0m\n\u001b[0;32m--> 379\u001b[0;31m             \u001b[0mwandb\u001b[0m\u001b[0;34m.\u001b[0m\u001b[0mlogin\u001b[0m\u001b[0;34m(\u001b[0m\u001b[0mhost\u001b[0m\u001b[0;34m=\u001b[0m\u001b[0m_overrides\u001b[0m\u001b[0;34m.\u001b[0m\u001b[0mget\u001b[0m\u001b[0;34m(\u001b[0m\u001b[0;34m\"base_url\"\u001b[0m\u001b[0;34m)\u001b[0m\u001b[0;34m)\u001b[0m\u001b[0;34m\u001b[0m\u001b[0;34m\u001b[0m\u001b[0m\n\u001b[0m\u001b[1;32m    380\u001b[0m         \u001b[0mself\u001b[0m\u001b[0;34m.\u001b[0m\u001b[0msettings\u001b[0m\u001b[0;34m.\u001b[0m\u001b[0mupdate\u001b[0m\u001b[0;34m(\u001b[0m\u001b[0m_overrides\u001b[0m\u001b[0;34m)\u001b[0m\u001b[0;34m\u001b[0m\u001b[0;34m\u001b[0m\u001b[0m\n\u001b[1;32m    381\u001b[0m         \u001b[0;32mif\u001b[0m \u001b[0;34m\"username\"\u001b[0m \u001b[0;32min\u001b[0m \u001b[0m_overrides\u001b[0m \u001b[0;32mand\u001b[0m \u001b[0;34m\"entity\"\u001b[0m \u001b[0;32mnot\u001b[0m \u001b[0;32min\u001b[0m \u001b[0m_overrides\u001b[0m\u001b[0;34m:\u001b[0m\u001b[0;34m\u001b[0m\u001b[0;34m\u001b[0m\u001b[0m\n",
            "\u001b[0;32m/usr/local/lib/python3.10/dist-packages/wandb/sdk/wandb_login.py\u001b[0m in \u001b[0;36mlogin\u001b[0;34m(anonymous, key, relogin, host, force, timeout)\u001b[0m\n\u001b[1;32m     75\u001b[0m         \u001b[0;32mreturn\u001b[0m \u001b[0;32mTrue\u001b[0m\u001b[0;34m\u001b[0m\u001b[0;34m\u001b[0m\u001b[0m\n\u001b[1;32m     76\u001b[0m     \u001b[0mkwargs\u001b[0m \u001b[0;34m=\u001b[0m \u001b[0mdict\u001b[0m\u001b[0;34m(\u001b[0m\u001b[0mlocals\u001b[0m\u001b[0;34m(\u001b[0m\u001b[0;34m)\u001b[0m\u001b[0;34m)\u001b[0m\u001b[0;34m\u001b[0m\u001b[0;34m\u001b[0m\u001b[0m\n\u001b[0;32m---> 77\u001b[0;31m     \u001b[0mconfigured\u001b[0m \u001b[0;34m=\u001b[0m \u001b[0m_login\u001b[0m\u001b[0;34m(\u001b[0m\u001b[0;34m**\u001b[0m\u001b[0mkwargs\u001b[0m\u001b[0;34m)\u001b[0m\u001b[0;34m\u001b[0m\u001b[0;34m\u001b[0m\u001b[0m\n\u001b[0m\u001b[1;32m     78\u001b[0m     \u001b[0;32mreturn\u001b[0m \u001b[0;32mTrue\u001b[0m \u001b[0;32mif\u001b[0m \u001b[0mconfigured\u001b[0m \u001b[0;32melse\u001b[0m \u001b[0;32mFalse\u001b[0m\u001b[0;34m\u001b[0m\u001b[0;34m\u001b[0m\u001b[0m\n\u001b[1;32m     79\u001b[0m \u001b[0;34m\u001b[0m\u001b[0m\n",
            "\u001b[0;32m/usr/local/lib/python3.10/dist-packages/wandb/sdk/wandb_login.py\u001b[0m in \u001b[0;36m_login\u001b[0;34m(anonymous, key, relogin, host, force, timeout, _backend, _silent, _disable_warning, _entity)\u001b[0m\n\u001b[1;32m    296\u001b[0m \u001b[0;34m\u001b[0m\u001b[0m\n\u001b[1;32m    297\u001b[0m     \u001b[0;32mif\u001b[0m \u001b[0;32mnot\u001b[0m \u001b[0mkey\u001b[0m\u001b[0;34m:\u001b[0m\u001b[0;34m\u001b[0m\u001b[0;34m\u001b[0m\u001b[0m\n\u001b[0;32m--> 298\u001b[0;31m         \u001b[0mwlogin\u001b[0m\u001b[0;34m.\u001b[0m\u001b[0mprompt_api_key\u001b[0m\u001b[0;34m(\u001b[0m\u001b[0;34m)\u001b[0m\u001b[0;34m\u001b[0m\u001b[0;34m\u001b[0m\u001b[0m\n\u001b[0m\u001b[1;32m    299\u001b[0m \u001b[0;34m\u001b[0m\u001b[0m\n\u001b[1;32m    300\u001b[0m     \u001b[0;31m# make sure login credentials get to the backend\u001b[0m\u001b[0;34m\u001b[0m\u001b[0;34m\u001b[0m\u001b[0m\n",
            "\u001b[0;32m/usr/local/lib/python3.10/dist-packages/wandb/sdk/wandb_login.py\u001b[0m in \u001b[0;36mprompt_api_key\u001b[0;34m(self)\u001b[0m\n\u001b[1;32m    226\u001b[0m                 \u001b[0;32melse\u001b[0m \u001b[0;34m\"wandb.login(key=[your_api_key])\"\u001b[0m\u001b[0;34m\u001b[0m\u001b[0;34m\u001b[0m\u001b[0m\n\u001b[1;32m    227\u001b[0m             )\n\u001b[0;32m--> 228\u001b[0;31m             \u001b[0;32mraise\u001b[0m \u001b[0mUsageError\u001b[0m\u001b[0;34m(\u001b[0m\u001b[0;34m\"api_key not configured (no-tty). call \"\u001b[0m \u001b[0;34m+\u001b[0m \u001b[0mdirective\u001b[0m\u001b[0;34m)\u001b[0m\u001b[0;34m\u001b[0m\u001b[0;34m\u001b[0m\u001b[0m\n\u001b[0m\u001b[1;32m    229\u001b[0m \u001b[0;34m\u001b[0m\u001b[0m\n\u001b[1;32m    230\u001b[0m         \u001b[0mself\u001b[0m\u001b[0;34m.\u001b[0m\u001b[0mupdate_session\u001b[0m\u001b[0;34m(\u001b[0m\u001b[0mkey\u001b[0m\u001b[0;34m,\u001b[0m \u001b[0mstatus\u001b[0m\u001b[0;34m=\u001b[0m\u001b[0mstatus\u001b[0m\u001b[0;34m)\u001b[0m\u001b[0;34m\u001b[0m\u001b[0;34m\u001b[0m\u001b[0m\n",
            "\u001b[0;31mUsageError\u001b[0m: api_key not configured (no-tty). call wandb.login(key=[your_api_key])"
          ]
        }
      ]
    },
    {
      "cell_type": "code",
      "execution_count": 9,
      "metadata": {
        "id": "0qJEuqgdVV1k",
        "colab": {
          "base_uri": "https://localhost:8080/"
        },
        "outputId": "30f380c8-084c-4ff8-91e6-895f15149bc3"
      },
      "outputs": [
        {
          "output_type": "stream",
          "name": "stderr",
          "text": [
            "\u001b[34m\u001b[1mwandb\u001b[0m: W&B API key is configured. Use \u001b[1m`wandb login --relogin`\u001b[0m to force relogin\n",
            "\u001b[34m\u001b[1mwandb\u001b[0m: \u001b[33mWARNING\u001b[0m If you're specifying your api key in code, ensure this code is not shared publicly.\n",
            "\u001b[34m\u001b[1mwandb\u001b[0m: \u001b[33mWARNING\u001b[0m Consider setting the WANDB_API_KEY environment variable, or running `wandb login` from the command line.\n",
            "\u001b[34m\u001b[1mwandb\u001b[0m: Appending key for api.wandb.ai to your netrc file: /root/.netrc\n"
          ]
        },
        {
          "output_type": "execute_result",
          "data": {
            "text/plain": [
              "True"
            ]
          },
          "metadata": {},
          "execution_count": 9
        }
      ],
      "source": [
        "# Let's log into W&B to load data and track our experiments\n",
        "wandb.login(key='b90d50be1747a4ed604f9e6a9d227ab7303b3d37')"
      ]
    },
    {
      "cell_type": "code",
      "execution_count": 10,
      "metadata": {
        "id": "lbhpYgFaVV1k",
        "colab": {
          "base_uri": "https://localhost:8080/"
        },
        "outputId": "c0c50b11-59c4-461b-e364-b78e418f84a0"
      },
      "outputs": [
        {
          "output_type": "stream",
          "name": "stderr",
          "text": [
            "\u001b[34m\u001b[1mwandb\u001b[0m: Currently logged in as: \u001b[33mtejas86\u001b[0m. Use \u001b[1m`wandb login --relogin`\u001b[0m to force relogin\n",
            "\u001b[34m\u001b[1mwandb\u001b[0m: Tracking run with wandb version 0.15.10\n",
            "\u001b[34m\u001b[1mwandb\u001b[0m: Run data is saved locally in \u001b[35m\u001b[1m/content/wandb/run-20230920_070213-n4zqvxrb\u001b[0m\n",
            "\u001b[34m\u001b[1mwandb\u001b[0m: Run \u001b[1m`wandb offline`\u001b[0m to turn off syncing.\n",
            "\u001b[34m\u001b[1mwandb\u001b[0m: Syncing run \u001b[33mgolden-universe-1\u001b[0m\n",
            "\u001b[34m\u001b[1mwandb\u001b[0m: ⭐️ View project at \u001b[34m\u001b[4mhttps://wandb.ai/tejas86/profit_curves\u001b[0m\n",
            "\u001b[34m\u001b[1mwandb\u001b[0m: 🚀 View run at \u001b[34m\u001b[4mhttps://wandb.ai/tejas86/profit_curves/runs/n4zqvxrb\u001b[0m\n",
            "\u001b[34m\u001b[1mwandb\u001b[0m:   1 of 1 files downloaded.  \n",
            "\u001b[34m\u001b[1mwandb\u001b[0m: Waiting for W&B process to finish... \u001b[32m(success).\u001b[0m\n",
            "\u001b[34m\u001b[1mwandb\u001b[0m: 🚀 View run \u001b[33mgolden-universe-1\u001b[0m at: \u001b[34m\u001b[4mhttps://wandb.ai/tejas86/profit_curves/runs/n4zqvxrb\u001b[0m\n",
            "\u001b[34m\u001b[1mwandb\u001b[0m: Synced 5 W&B file(s), 0 media file(s), 0 artifact file(s) and 0 other file(s)\n",
            "\u001b[34m\u001b[1mwandb\u001b[0m: Find logs at: \u001b[35m\u001b[1m./wandb/run-20230920_070213-n4zqvxrb/logs\u001b[0m\n"
          ]
        }
      ],
      "source": [
        "# We will load dataset from wandb Artifact\n",
        "with wandb.init(project=\"profit_curves\") as run:\n",
        "    artifact = run.use_artifact('wandb_course/decision_opt/telco-customer-churn:latest', type='dataset')\n",
        "    artifact_dir = artifact.download()\n",
        "    path = Path(artifact_dir)"
      ]
    },
    {
      "cell_type": "code",
      "execution_count": 11,
      "metadata": {
        "id": "R00VFdOIVV1l",
        "colab": {
          "base_uri": "https://localhost:8080/",
          "height": 342
        },
        "outputId": "2ec752c3-ca22-44ed-efcb-f137d3ddb036"
      },
      "outputs": [
        {
          "output_type": "execute_result",
          "data": {
            "text/plain": [
              "   customerID  gender  SeniorCitizen Partner Dependents  tenure PhoneService  \\\n",
              "0  7590-VHVEG  Female              0     Yes         No       1           No   \n",
              "1  5575-GNVDE    Male              0      No         No      34          Yes   \n",
              "2  3668-QPYBK    Male              0      No         No       2          Yes   \n",
              "3  7795-CFOCW    Male              0      No         No      45           No   \n",
              "4  9237-HQITU  Female              0      No         No       2          Yes   \n",
              "\n",
              "      MultipleLines InternetService OnlineSecurity  ... DeviceProtection  \\\n",
              "0  No phone service             DSL             No  ...               No   \n",
              "1                No             DSL            Yes  ...              Yes   \n",
              "2                No             DSL            Yes  ...               No   \n",
              "3  No phone service             DSL            Yes  ...              Yes   \n",
              "4                No     Fiber optic             No  ...               No   \n",
              "\n",
              "  TechSupport StreamingTV StreamingMovies        Contract PaperlessBilling  \\\n",
              "0          No          No              No  Month-to-month              Yes   \n",
              "1          No          No              No        One year               No   \n",
              "2          No          No              No  Month-to-month              Yes   \n",
              "3         Yes          No              No        One year               No   \n",
              "4          No          No              No  Month-to-month              Yes   \n",
              "\n",
              "               PaymentMethod MonthlyCharges  TotalCharges Churn  \n",
              "0           Electronic check          29.85         29.85    No  \n",
              "1               Mailed check          56.95        1889.5    No  \n",
              "2               Mailed check          53.85        108.15   Yes  \n",
              "3  Bank transfer (automatic)          42.30       1840.75    No  \n",
              "4           Electronic check          70.70        151.65   Yes  \n",
              "\n",
              "[5 rows x 21 columns]"
            ],
            "text/html": [
              "\n",
              "  <div id=\"df-d26aac98-b10b-4dc3-a04f-bfdc044b9f6e\" class=\"colab-df-container\">\n",
              "    <div>\n",
              "<style scoped>\n",
              "    .dataframe tbody tr th:only-of-type {\n",
              "        vertical-align: middle;\n",
              "    }\n",
              "\n",
              "    .dataframe tbody tr th {\n",
              "        vertical-align: top;\n",
              "    }\n",
              "\n",
              "    .dataframe thead th {\n",
              "        text-align: right;\n",
              "    }\n",
              "</style>\n",
              "<table border=\"1\" class=\"dataframe\">\n",
              "  <thead>\n",
              "    <tr style=\"text-align: right;\">\n",
              "      <th></th>\n",
              "      <th>customerID</th>\n",
              "      <th>gender</th>\n",
              "      <th>SeniorCitizen</th>\n",
              "      <th>Partner</th>\n",
              "      <th>Dependents</th>\n",
              "      <th>tenure</th>\n",
              "      <th>PhoneService</th>\n",
              "      <th>MultipleLines</th>\n",
              "      <th>InternetService</th>\n",
              "      <th>OnlineSecurity</th>\n",
              "      <th>...</th>\n",
              "      <th>DeviceProtection</th>\n",
              "      <th>TechSupport</th>\n",
              "      <th>StreamingTV</th>\n",
              "      <th>StreamingMovies</th>\n",
              "      <th>Contract</th>\n",
              "      <th>PaperlessBilling</th>\n",
              "      <th>PaymentMethod</th>\n",
              "      <th>MonthlyCharges</th>\n",
              "      <th>TotalCharges</th>\n",
              "      <th>Churn</th>\n",
              "    </tr>\n",
              "  </thead>\n",
              "  <tbody>\n",
              "    <tr>\n",
              "      <th>0</th>\n",
              "      <td>7590-VHVEG</td>\n",
              "      <td>Female</td>\n",
              "      <td>0</td>\n",
              "      <td>Yes</td>\n",
              "      <td>No</td>\n",
              "      <td>1</td>\n",
              "      <td>No</td>\n",
              "      <td>No phone service</td>\n",
              "      <td>DSL</td>\n",
              "      <td>No</td>\n",
              "      <td>...</td>\n",
              "      <td>No</td>\n",
              "      <td>No</td>\n",
              "      <td>No</td>\n",
              "      <td>No</td>\n",
              "      <td>Month-to-month</td>\n",
              "      <td>Yes</td>\n",
              "      <td>Electronic check</td>\n",
              "      <td>29.85</td>\n",
              "      <td>29.85</td>\n",
              "      <td>No</td>\n",
              "    </tr>\n",
              "    <tr>\n",
              "      <th>1</th>\n",
              "      <td>5575-GNVDE</td>\n",
              "      <td>Male</td>\n",
              "      <td>0</td>\n",
              "      <td>No</td>\n",
              "      <td>No</td>\n",
              "      <td>34</td>\n",
              "      <td>Yes</td>\n",
              "      <td>No</td>\n",
              "      <td>DSL</td>\n",
              "      <td>Yes</td>\n",
              "      <td>...</td>\n",
              "      <td>Yes</td>\n",
              "      <td>No</td>\n",
              "      <td>No</td>\n",
              "      <td>No</td>\n",
              "      <td>One year</td>\n",
              "      <td>No</td>\n",
              "      <td>Mailed check</td>\n",
              "      <td>56.95</td>\n",
              "      <td>1889.5</td>\n",
              "      <td>No</td>\n",
              "    </tr>\n",
              "    <tr>\n",
              "      <th>2</th>\n",
              "      <td>3668-QPYBK</td>\n",
              "      <td>Male</td>\n",
              "      <td>0</td>\n",
              "      <td>No</td>\n",
              "      <td>No</td>\n",
              "      <td>2</td>\n",
              "      <td>Yes</td>\n",
              "      <td>No</td>\n",
              "      <td>DSL</td>\n",
              "      <td>Yes</td>\n",
              "      <td>...</td>\n",
              "      <td>No</td>\n",
              "      <td>No</td>\n",
              "      <td>No</td>\n",
              "      <td>No</td>\n",
              "      <td>Month-to-month</td>\n",
              "      <td>Yes</td>\n",
              "      <td>Mailed check</td>\n",
              "      <td>53.85</td>\n",
              "      <td>108.15</td>\n",
              "      <td>Yes</td>\n",
              "    </tr>\n",
              "    <tr>\n",
              "      <th>3</th>\n",
              "      <td>7795-CFOCW</td>\n",
              "      <td>Male</td>\n",
              "      <td>0</td>\n",
              "      <td>No</td>\n",
              "      <td>No</td>\n",
              "      <td>45</td>\n",
              "      <td>No</td>\n",
              "      <td>No phone service</td>\n",
              "      <td>DSL</td>\n",
              "      <td>Yes</td>\n",
              "      <td>...</td>\n",
              "      <td>Yes</td>\n",
              "      <td>Yes</td>\n",
              "      <td>No</td>\n",
              "      <td>No</td>\n",
              "      <td>One year</td>\n",
              "      <td>No</td>\n",
              "      <td>Bank transfer (automatic)</td>\n",
              "      <td>42.30</td>\n",
              "      <td>1840.75</td>\n",
              "      <td>No</td>\n",
              "    </tr>\n",
              "    <tr>\n",
              "      <th>4</th>\n",
              "      <td>9237-HQITU</td>\n",
              "      <td>Female</td>\n",
              "      <td>0</td>\n",
              "      <td>No</td>\n",
              "      <td>No</td>\n",
              "      <td>2</td>\n",
              "      <td>Yes</td>\n",
              "      <td>No</td>\n",
              "      <td>Fiber optic</td>\n",
              "      <td>No</td>\n",
              "      <td>...</td>\n",
              "      <td>No</td>\n",
              "      <td>No</td>\n",
              "      <td>No</td>\n",
              "      <td>No</td>\n",
              "      <td>Month-to-month</td>\n",
              "      <td>Yes</td>\n",
              "      <td>Electronic check</td>\n",
              "      <td>70.70</td>\n",
              "      <td>151.65</td>\n",
              "      <td>Yes</td>\n",
              "    </tr>\n",
              "  </tbody>\n",
              "</table>\n",
              "<p>5 rows × 21 columns</p>\n",
              "</div>\n",
              "    <div class=\"colab-df-buttons\">\n",
              "\n",
              "  <div class=\"colab-df-container\">\n",
              "    <button class=\"colab-df-convert\" onclick=\"convertToInteractive('df-d26aac98-b10b-4dc3-a04f-bfdc044b9f6e')\"\n",
              "            title=\"Convert this dataframe to an interactive table.\"\n",
              "            style=\"display:none;\">\n",
              "\n",
              "  <svg xmlns=\"http://www.w3.org/2000/svg\" height=\"24px\" viewBox=\"0 -960 960 960\">\n",
              "    <path d=\"M120-120v-720h720v720H120Zm60-500h600v-160H180v160Zm220 220h160v-160H400v160Zm0 220h160v-160H400v160ZM180-400h160v-160H180v160Zm440 0h160v-160H620v160ZM180-180h160v-160H180v160Zm440 0h160v-160H620v160Z\"/>\n",
              "  </svg>\n",
              "    </button>\n",
              "\n",
              "  <style>\n",
              "    .colab-df-container {\n",
              "      display:flex;\n",
              "      gap: 12px;\n",
              "    }\n",
              "\n",
              "    .colab-df-convert {\n",
              "      background-color: #E8F0FE;\n",
              "      border: none;\n",
              "      border-radius: 50%;\n",
              "      cursor: pointer;\n",
              "      display: none;\n",
              "      fill: #1967D2;\n",
              "      height: 32px;\n",
              "      padding: 0 0 0 0;\n",
              "      width: 32px;\n",
              "    }\n",
              "\n",
              "    .colab-df-convert:hover {\n",
              "      background-color: #E2EBFA;\n",
              "      box-shadow: 0px 1px 2px rgba(60, 64, 67, 0.3), 0px 1px 3px 1px rgba(60, 64, 67, 0.15);\n",
              "      fill: #174EA6;\n",
              "    }\n",
              "\n",
              "    .colab-df-buttons div {\n",
              "      margin-bottom: 4px;\n",
              "    }\n",
              "\n",
              "    [theme=dark] .colab-df-convert {\n",
              "      background-color: #3B4455;\n",
              "      fill: #D2E3FC;\n",
              "    }\n",
              "\n",
              "    [theme=dark] .colab-df-convert:hover {\n",
              "      background-color: #434B5C;\n",
              "      box-shadow: 0px 1px 3px 1px rgba(0, 0, 0, 0.15);\n",
              "      filter: drop-shadow(0px 1px 2px rgba(0, 0, 0, 0.3));\n",
              "      fill: #FFFFFF;\n",
              "    }\n",
              "  </style>\n",
              "\n",
              "    <script>\n",
              "      const buttonEl =\n",
              "        document.querySelector('#df-d26aac98-b10b-4dc3-a04f-bfdc044b9f6e button.colab-df-convert');\n",
              "      buttonEl.style.display =\n",
              "        google.colab.kernel.accessAllowed ? 'block' : 'none';\n",
              "\n",
              "      async function convertToInteractive(key) {\n",
              "        const element = document.querySelector('#df-d26aac98-b10b-4dc3-a04f-bfdc044b9f6e');\n",
              "        const dataTable =\n",
              "          await google.colab.kernel.invokeFunction('convertToInteractive',\n",
              "                                                    [key], {});\n",
              "        if (!dataTable) return;\n",
              "\n",
              "        const docLinkHtml = 'Like what you see? Visit the ' +\n",
              "          '<a target=\"_blank\" href=https://colab.research.google.com/notebooks/data_table.ipynb>data table notebook</a>'\n",
              "          + ' to learn more about interactive tables.';\n",
              "        element.innerHTML = '';\n",
              "        dataTable['output_type'] = 'display_data';\n",
              "        await google.colab.output.renderOutput(dataTable, element);\n",
              "        const docLink = document.createElement('div');\n",
              "        docLink.innerHTML = docLinkHtml;\n",
              "        element.appendChild(docLink);\n",
              "      }\n",
              "    </script>\n",
              "  </div>\n",
              "\n",
              "\n",
              "<div id=\"df-4796f3e8-70ef-46cc-8b30-2d4d8f7b4149\">\n",
              "  <button class=\"colab-df-quickchart\" onclick=\"quickchart('df-4796f3e8-70ef-46cc-8b30-2d4d8f7b4149')\"\n",
              "            title=\"Suggest charts.\"\n",
              "            style=\"display:none;\">\n",
              "\n",
              "<svg xmlns=\"http://www.w3.org/2000/svg\" height=\"24px\"viewBox=\"0 0 24 24\"\n",
              "     width=\"24px\">\n",
              "    <g>\n",
              "        <path d=\"M19 3H5c-1.1 0-2 .9-2 2v14c0 1.1.9 2 2 2h14c1.1 0 2-.9 2-2V5c0-1.1-.9-2-2-2zM9 17H7v-7h2v7zm4 0h-2V7h2v10zm4 0h-2v-4h2v4z\"/>\n",
              "    </g>\n",
              "</svg>\n",
              "  </button>\n",
              "\n",
              "<style>\n",
              "  .colab-df-quickchart {\n",
              "      --bg-color: #E8F0FE;\n",
              "      --fill-color: #1967D2;\n",
              "      --hover-bg-color: #E2EBFA;\n",
              "      --hover-fill-color: #174EA6;\n",
              "      --disabled-fill-color: #AAA;\n",
              "      --disabled-bg-color: #DDD;\n",
              "  }\n",
              "\n",
              "  [theme=dark] .colab-df-quickchart {\n",
              "      --bg-color: #3B4455;\n",
              "      --fill-color: #D2E3FC;\n",
              "      --hover-bg-color: #434B5C;\n",
              "      --hover-fill-color: #FFFFFF;\n",
              "      --disabled-bg-color: #3B4455;\n",
              "      --disabled-fill-color: #666;\n",
              "  }\n",
              "\n",
              "  .colab-df-quickchart {\n",
              "    background-color: var(--bg-color);\n",
              "    border: none;\n",
              "    border-radius: 50%;\n",
              "    cursor: pointer;\n",
              "    display: none;\n",
              "    fill: var(--fill-color);\n",
              "    height: 32px;\n",
              "    padding: 0;\n",
              "    width: 32px;\n",
              "  }\n",
              "\n",
              "  .colab-df-quickchart:hover {\n",
              "    background-color: var(--hover-bg-color);\n",
              "    box-shadow: 0 1px 2px rgba(60, 64, 67, 0.3), 0 1px 3px 1px rgba(60, 64, 67, 0.15);\n",
              "    fill: var(--button-hover-fill-color);\n",
              "  }\n",
              "\n",
              "  .colab-df-quickchart-complete:disabled,\n",
              "  .colab-df-quickchart-complete:disabled:hover {\n",
              "    background-color: var(--disabled-bg-color);\n",
              "    fill: var(--disabled-fill-color);\n",
              "    box-shadow: none;\n",
              "  }\n",
              "\n",
              "  .colab-df-spinner {\n",
              "    border: 2px solid var(--fill-color);\n",
              "    border-color: transparent;\n",
              "    border-bottom-color: var(--fill-color);\n",
              "    animation:\n",
              "      spin 1s steps(1) infinite;\n",
              "  }\n",
              "\n",
              "  @keyframes spin {\n",
              "    0% {\n",
              "      border-color: transparent;\n",
              "      border-bottom-color: var(--fill-color);\n",
              "      border-left-color: var(--fill-color);\n",
              "    }\n",
              "    20% {\n",
              "      border-color: transparent;\n",
              "      border-left-color: var(--fill-color);\n",
              "      border-top-color: var(--fill-color);\n",
              "    }\n",
              "    30% {\n",
              "      border-color: transparent;\n",
              "      border-left-color: var(--fill-color);\n",
              "      border-top-color: var(--fill-color);\n",
              "      border-right-color: var(--fill-color);\n",
              "    }\n",
              "    40% {\n",
              "      border-color: transparent;\n",
              "      border-right-color: var(--fill-color);\n",
              "      border-top-color: var(--fill-color);\n",
              "    }\n",
              "    60% {\n",
              "      border-color: transparent;\n",
              "      border-right-color: var(--fill-color);\n",
              "    }\n",
              "    80% {\n",
              "      border-color: transparent;\n",
              "      border-right-color: var(--fill-color);\n",
              "      border-bottom-color: var(--fill-color);\n",
              "    }\n",
              "    90% {\n",
              "      border-color: transparent;\n",
              "      border-bottom-color: var(--fill-color);\n",
              "    }\n",
              "  }\n",
              "</style>\n",
              "\n",
              "  <script>\n",
              "    async function quickchart(key) {\n",
              "      const quickchartButtonEl =\n",
              "        document.querySelector('#' + key + ' button');\n",
              "      quickchartButtonEl.disabled = true;  // To prevent multiple clicks.\n",
              "      quickchartButtonEl.classList.add('colab-df-spinner');\n",
              "      try {\n",
              "        const charts = await google.colab.kernel.invokeFunction(\n",
              "            'suggestCharts', [key], {});\n",
              "      } catch (error) {\n",
              "        console.error('Error during call to suggestCharts:', error);\n",
              "      }\n",
              "      quickchartButtonEl.classList.remove('colab-df-spinner');\n",
              "      quickchartButtonEl.classList.add('colab-df-quickchart-complete');\n",
              "    }\n",
              "    (() => {\n",
              "      let quickchartButtonEl =\n",
              "        document.querySelector('#df-4796f3e8-70ef-46cc-8b30-2d4d8f7b4149 button');\n",
              "      quickchartButtonEl.style.display =\n",
              "        google.colab.kernel.accessAllowed ? 'block' : 'none';\n",
              "    })();\n",
              "  </script>\n",
              "</div>\n",
              "    </div>\n",
              "  </div>\n"
            ]
          },
          "metadata": {},
          "execution_count": 11
        }
      ],
      "source": [
        "data = pd.read_csv(path/\"WA_Fn-UseC_-Telco-Customer-Churn.csv\")\n",
        "data.head()"
      ]
    },
    {
      "cell_type": "code",
      "execution_count": 12,
      "metadata": {
        "id": "vrP5kWJkVV1l",
        "colab": {
          "base_uri": "https://localhost:8080/"
        },
        "outputId": "809ef178-b4b0-4aa6-bc8e-8d0f68e09edd"
      },
      "outputs": [
        {
          "output_type": "stream",
          "name": "stderr",
          "text": [
            "\u001b[34m\u001b[1mwandb\u001b[0m: Tracking run with wandb version 0.15.10\n",
            "\u001b[34m\u001b[1mwandb\u001b[0m: Run data is saved locally in \u001b[35m\u001b[1m/content/wandb/run-20230920_070310-yvjmb7tu\u001b[0m\n",
            "\u001b[34m\u001b[1mwandb\u001b[0m: Run \u001b[1m`wandb offline`\u001b[0m to turn off syncing.\n",
            "\u001b[34m\u001b[1mwandb\u001b[0m: Syncing run \u001b[33mgrateful-flower-2\u001b[0m\n",
            "\u001b[34m\u001b[1mwandb\u001b[0m: ⭐️ View project at \u001b[34m\u001b[4mhttps://wandb.ai/tejas86/profit_curves\u001b[0m\n",
            "\u001b[34m\u001b[1mwandb\u001b[0m: 🚀 View run at \u001b[34m\u001b[4mhttps://wandb.ai/tejas86/profit_curves/runs/yvjmb7tu\u001b[0m\n"
          ]
        }
      ],
      "source": [
        "run1 = wandb.init(project=\"profit_curves\")\n",
        "\n",
        "target = \"Churn\"\n",
        "X_train, X_test, y_train, y_test = train_test_split(\n",
        "    data.drop(target, axis=1), data[target] == \"Yes\", test_size=0.2, random_state=0\n",
        ")\n",
        "cols_to_use = [\n",
        "    \"tenure\",\n",
        "    \"PhoneService\",\n",
        "    \"MultipleLines\",\n",
        "    \"InternetService\",\n",
        "    \"OnlineSecurity\",\n",
        "    \"OnlineBackup\",\n",
        "    \"DeviceProtection\",\n",
        "    \"TechSupport\",\n",
        "    \"StreamingTV\",\n",
        "    \"StreamingMovies\",\n",
        "    \"Contract\",\n",
        "    \"PaperlessBilling\",\n",
        "    \"PaymentMethod\",\n",
        "    \"MonthlyCharges\",\n",
        "]\n",
        "\n",
        "preprocessor = ColumnTransformer(\n",
        "    transformers=[(\"one_hot\", OneHotEncoder(), selector(dtype_include=\"object\"))],\n",
        "    remainder=\"passthrough\",  # Leave numerical variables unchanged\n",
        ")\n",
        "\n",
        "# Create pipeline\n",
        "pipeline = Pipeline([(\"preprocessor\", preprocessor), (\"classifier\", XGBClassifier())])\n",
        "pipeline.fit(X_train[cols_to_use], y_train)\n",
        "y_pred = pipeline.predict_proba(X_test[cols_to_use])[:, 1]\n",
        "roc_auc = roc_auc_score(y_test, y_pred)\n",
        "log_loss_val = log_loss(y_test, y_pred)\n",
        "\n",
        "# Log metrics to W&B\n",
        "wandb.log({\"roc_auc\": roc_auc, \"log_loss\": log_loss_val})"
      ]
    },
    {
      "cell_type": "code",
      "execution_count": 13,
      "metadata": {
        "id": "BVn8_skmVV1m",
        "colab": {
          "base_uri": "https://localhost:8080/"
        },
        "outputId": "3fa3459b-d0ed-4d3b-e28a-164e5a541d2f"
      },
      "outputs": [
        {
          "output_type": "stream",
          "name": "stdout",
          "text": [
            "Confusion Matrix:\n",
            "[[912 129]\n",
            " [179 189]]\n"
          ]
        }
      ],
      "source": [
        "import numpy as np\n",
        "from sklearn.metrics import confusion_matrix\n",
        "\n",
        "threshold = 0.5  # Set your custom threshold here\n",
        "y_pred_binary = np.where(y_pred >= threshold, 1, 0)\n",
        "cm = confusion_matrix(y_test, y_pred_binary)\n",
        "\n",
        "# format is\n",
        "# [[TN, FP],\n",
        "#  [FN, TP]]\n",
        "\n",
        "# Log confusion matrix to W&B\n",
        "wandb.log({'confusion_matrix': wandb.plot.confusion_matrix(\n",
        "    probs=None,\n",
        "    y_true=y_test.tolist(),\n",
        "    preds=y_pred_binary.tolist(),\n",
        "    class_names=['Not Churn', 'Churn'])}\n",
        "    )\n",
        "\n",
        "\n",
        "print(\"Confusion Matrix:\")\n",
        "print(cm)"
      ]
    },
    {
      "cell_type": "code",
      "execution_count": 14,
      "metadata": {
        "id": "E6kg5BUBVV1n",
        "colab": {
          "base_uri": "https://localhost:8080/"
        },
        "outputId": "2e3a22a0-c904-49dc-f986-3cbe169610fe"
      },
      "outputs": [
        {
          "output_type": "stream",
          "name": "stdout",
          "text": [
            "[0.   0.01 0.02 0.03 0.04 0.05 0.06 0.07 0.08 0.09 0.1  0.11 0.12 0.13\n",
            " 0.14 0.15 0.16 0.17 0.18 0.19 0.2  0.21 0.22 0.23 0.24 0.25 0.26 0.27\n",
            " 0.28 0.29 0.3  0.31 0.32 0.33 0.34 0.35 0.36 0.37 0.38 0.39 0.4  0.41\n",
            " 0.42 0.43 0.44 0.45 0.46 0.47 0.48 0.49 0.5  0.51 0.52 0.53 0.54 0.55\n",
            " 0.56 0.57 0.58 0.59 0.6  0.61 0.62 0.63 0.64 0.65 0.66 0.67 0.68 0.69\n",
            " 0.7  0.71 0.72 0.73 0.74 0.75 0.76 0.77 0.78 0.79 0.8  0.81 0.82 0.83\n",
            " 0.84 0.85 0.86 0.87 0.88 0.89 0.9  0.91 0.92 0.93 0.94 0.95 0.96 0.97\n",
            " 0.98 0.99 1.  ]\n",
            "[-9680, 13160, 15560, 19440, 21400, 23120, 25000, 26120, 26960, 27840, 28680, 29840, 29360, 29560, 30200, 30280, 30440, 30680, 31360, 32080, 32040, 32080, 32360, 31760, 31800, 31960, 32000, 31440, 31480, 31600, 31800, 30400, 30320, 30560, 31040, 30680, 30680, 30040, 29960, 30120, 30360, 29440, 28440, 28080, 28400, 28200, 28120, 28400, 28160, 27920, 27480, 27640, 27080, 26520, 26360, 26040, 26160, 26440, 25680, 25600, 25560, 24600, 24640, 24880, 24880, 24560, 23560, 23280, 22920, 22120, 22240, 21680, 20920, 20280, 19840, 18280, 17080, 16280, 15520, 14800, 13840, 13400, 12400, 11960, 11120, 11000, 9360, 8360, 7960, 7160, 6640, 5800, 5080, 4760, 3920, 2920, 1920, 600, 200, 0, 0]\n"
          ]
        }
      ],
      "source": [
        "def profit_curve(y_true, y_pred, payoff_matrix, n_points=101):\n",
        "    \"\"\"Calculate profit curve for a binary classifier.\n",
        "\n",
        "    Args:\n",
        "        y_true (array-like): True labels.\n",
        "        y_pred (array-like): Predicted probabilities.\n",
        "        payoff_matrix (array-like): Payoff matrix.\n",
        "        n_points (int): Number of points to calculate.\n",
        "\n",
        "    Returns:\n",
        "        tuple: x and y values for the profit curve.\n",
        "    \"\"\"\n",
        "    # Calculate profit for each threshold\n",
        "    thresholds = np.linspace(0, 1, n_points)\n",
        "    profits = []\n",
        "    for threshold in thresholds:\n",
        "        y_pred_binary = np.where(y_pred >= threshold, 1, 0)\n",
        "        cm = confusion_matrix(y_true, y_pred_binary)\n",
        "        profit = (cm * payoff_matrix).sum()\n",
        "        profits.append(profit)\n",
        "    return thresholds, profits\n",
        "\n",
        "\n",
        "# Costs $80 to give discount to a customer who will not churn\n",
        "# Worth $200 to give discount to a customer who will otherwise churn\n",
        "payoff_matrix = np.array([[0, -80], [0, 200]])\n",
        "first_thresholds, first_profits = profit_curve(y_test, y_pred, payoff_matrix)\n",
        "print(first_thresholds)\n",
        "print(first_profits)"
      ]
    },
    {
      "cell_type": "code",
      "execution_count": 15,
      "metadata": {
        "id": "Ei5QQIxCVV1o"
      },
      "outputs": [],
      "source": [
        "# Log your data as a wandb.Table\n",
        "def log_profit_curve(thresholds, profits):\n",
        "    data = [[x, y] for (x, y) in zip(thresholds, profits)]\n",
        "    profit_curve_table = wandb.Table(data=data, columns=[\"Threshold\", \"Profit\"])\n",
        "    line_plot = wandb.plot.line(profit_curve_table, x='Threshold', y='Profit', title='Value of Offering Discounts to Prevent Churn')\n",
        "    wandb.log({\"profit_curve_table\": profit_curve_table, \"profit_curve\": line_plot})\n",
        "\n",
        "log_profit_curve(first_thresholds, first_profits)"
      ]
    },
    {
      "cell_type": "code",
      "execution_count": 16,
      "metadata": {
        "id": "4SZ0O8HFVV1o",
        "colab": {
          "base_uri": "https://localhost:8080/"
        },
        "outputId": "1e359a7a-b8f8-4df9-c8d9-852fc4f15da3"
      },
      "outputs": [
        {
          "output_type": "stream",
          "name": "stdout",
          "text": [
            "Ideal threshold is 0.22 which yields profits of $32360\n"
          ]
        }
      ],
      "source": [
        "def find_best_threshold_and_profit(thresholds, profits):\n",
        "    \"\"\"Find the best threshold and profit.\n",
        "\n",
        "    Args:\n",
        "        thresholds (array-like): Threshold values.\n",
        "        profits (array-like): Profit values.\n",
        "\n",
        "    Returns:\n",
        "        tuple: Best threshold and profit.\n",
        "    \"\"\"\n",
        "    best_profit = max(profits)\n",
        "    best_threshold = thresholds[profits.index(best_profit)]\n",
        "    return best_threshold, best_profit\n",
        "\n",
        "best_thresh, best_profits = find_best_threshold_and_profit(first_thresholds, first_profits)\n",
        "\n",
        "wandb.log({\"best_threshold\": best_thresh, \"best_profit\": best_profits})\n",
        "\n",
        "print(f\"Ideal threshold is {best_thresh:.2f} which yields profits of ${best_profits:.0f}\")\n"
      ]
    },
    {
      "cell_type": "code",
      "execution_count": null,
      "metadata": {
        "id": "REQ6PXnaVV1o"
      },
      "outputs": [],
      "source": [
        "# We'll finish our first experiment (run) here.\n",
        "wandb.finish()"
      ]
    },
    {
      "cell_type": "markdown",
      "metadata": {
        "id": "L3J1M-vWVV1p"
      },
      "source": [
        "## Prioritizing Work"
      ]
    },
    {
      "cell_type": "code",
      "execution_count": 17,
      "metadata": {
        "id": "V6kFDnbNVV1p",
        "colab": {
          "base_uri": "https://localhost:8080/"
        },
        "outputId": "6dc09c80-dec2-43a9-ca97-04834bdbdf5d"
      },
      "outputs": [
        {
          "output_type": "stream",
          "name": "stderr",
          "text": [
            "/usr/local/lib/python3.10/dist-packages/xgboost/sklearn.py:835: UserWarning: `callbacks` in `fit` method is deprecated for better compatibility with scikit-learn, use `callbacks` in constructor or`set_params` instead.\n",
            "  warnings.warn(\n"
          ]
        },
        {
          "output_type": "stream",
          "name": "stdout",
          "text": [
            "Ideal threshold is 0.24 which yields profits of $30800\n"
          ]
        }
      ],
      "source": [
        "# start a new W&B run\n",
        "run2 = wandb.init(project=\"profit_curves\")\n",
        "\n",
        "field_lost_in_broken_pipeline = \"Contract\"\n",
        "\n",
        "# refit model and get new predictions without this field\n",
        "new_cols_to_use = [col for col in cols_to_use if col != field_lost_in_broken_pipeline]\n",
        "pipeline.fit(X_train[new_cols_to_use], y_train,\n",
        "             classifier__callbacks=[WandbCallback()]\n",
        "             )\n",
        "new_y_pred = pipeline.predict_proba(X_test[new_cols_to_use])[:, 1]\n",
        "\n",
        "roc_auc = roc_auc_score(y_test, new_y_pred)\n",
        "log_loss_val = log_loss(y_test, new_y_pred)\n",
        "\n",
        "# Log metrics to W&B\n",
        "wandb.log({\"roc_auc\": roc_auc, \"log_loss\": log_loss_val})\n",
        "\n",
        "new_thresholds, new_profits = profit_curve(y_test, new_y_pred, payoff_matrix)\n",
        "log_profit_curve(new_thresholds, new_profits)\n",
        "new_best_thresh, new_best_profits = find_best_threshold_and_profit(new_thresholds, new_profits)\n",
        "wandb.log({\"best_threshold\": new_best_thresh, \"best_profit\": new_best_profits})\n",
        "print(f\"Ideal threshold is {new_best_thresh:.2f} which yields profits of ${new_best_profits:.0f}\")"
      ]
    },
    {
      "cell_type": "code",
      "execution_count": 18,
      "metadata": {
        "id": "R26dNUmNVV1p",
        "colab": {
          "base_uri": "https://localhost:8080/"
        },
        "outputId": "0763b7a2-bd0f-4e8e-ce0e-46b5bdc28174"
      },
      "outputs": [
        {
          "output_type": "stream",
          "name": "stderr",
          "text": [
            "\u001b[34m\u001b[1mwandb\u001b[0m: Waiting for W&B process to finish... \u001b[32m(success).\u001b[0m\n",
            "\u001b[34m\u001b[1mwandb\u001b[0m: \n",
            "\u001b[34m\u001b[1mwandb\u001b[0m: Run history:\n",
            "\u001b[34m\u001b[1mwandb\u001b[0m:    best_profit █▁\n",
            "\u001b[34m\u001b[1mwandb\u001b[0m: best_threshold ▁█\n",
            "\u001b[34m\u001b[1mwandb\u001b[0m:          epoch ▁▁▁▁▂▂▂▂▂▃▃▃▃▃▃▄▄▄▄▄▅▅▅▅▅▅▆▆▆▆▆▇▇▇▇▇▇███\n",
            "\u001b[34m\u001b[1mwandb\u001b[0m:       log_loss ▁█\n",
            "\u001b[34m\u001b[1mwandb\u001b[0m:        roc_auc █▁\n",
            "\u001b[34m\u001b[1mwandb\u001b[0m: \n",
            "\u001b[34m\u001b[1mwandb\u001b[0m: Run summary:\n",
            "\u001b[34m\u001b[1mwandb\u001b[0m:    best_profit 30800\n",
            "\u001b[34m\u001b[1mwandb\u001b[0m: best_threshold 0.24\n",
            "\u001b[34m\u001b[1mwandb\u001b[0m:          epoch 99\n",
            "\u001b[34m\u001b[1mwandb\u001b[0m:       log_loss 0.47603\n",
            "\u001b[34m\u001b[1mwandb\u001b[0m:        roc_auc 0.80646\n",
            "\u001b[34m\u001b[1mwandb\u001b[0m: \n",
            "\u001b[34m\u001b[1mwandb\u001b[0m: 🚀 View run \u001b[33mgrateful-flower-2\u001b[0m at: \u001b[34m\u001b[4mhttps://wandb.ai/tejas86/profit_curves/runs/yvjmb7tu\u001b[0m\n",
            "\u001b[34m\u001b[1mwandb\u001b[0m: Synced 5 W&B file(s), 4 media file(s), 4 artifact file(s) and 0 other file(s)\n",
            "\u001b[34m\u001b[1mwandb\u001b[0m: Find logs at: \u001b[35m\u001b[1m./wandb/run-20230920_070310-yvjmb7tu/logs\u001b[0m\n"
          ]
        }
      ],
      "source": [
        "# Let's finish our second run here\n",
        "wandb.finish()"
      ]
    },
    {
      "cell_type": "code",
      "execution_count": 19,
      "metadata": {
        "id": "BDFiDfdHVV1q",
        "colab": {
          "base_uri": "https://localhost:8080/"
        },
        "outputId": "0444451d-ef37-4ce6-c45e-27bdf133aad9"
      },
      "outputs": [
        {
          "output_type": "stream",
          "name": "stdout",
          "text": [
            "Change in profit due to lost field: -1560\n"
          ]
        }
      ],
      "source": [
        "print(f\"Change in profit due to lost field: {new_best_profits - best_profits:.0f}\")"
      ]
    },
    {
      "cell_type": "markdown",
      "metadata": {
        "id": "vDo5CnMuVV1q"
      },
      "source": [
        "The most important field is `tenure`. It is an interesting exercise to see modify this code slightly and see how the results change when you remove `tenure`."
      ]
    },
    {
      "cell_type": "markdown",
      "metadata": {
        "id": "B-htnF0rVV1q"
      },
      "source": [
        "## Model Improvements"
      ]
    },
    {
      "cell_type": "code",
      "execution_count": 20,
      "metadata": {
        "id": "soYXptMlVV1q",
        "colab": {
          "base_uri": "https://localhost:8080/"
        },
        "outputId": "3d811b08-3e7b-4176-cf65-38ceb8bf19ca"
      },
      "outputs": [
        {
          "output_type": "stream",
          "name": "stderr",
          "text": [
            "\u001b[34m\u001b[1mwandb\u001b[0m: Tracking run with wandb version 0.15.10\n",
            "\u001b[34m\u001b[1mwandb\u001b[0m: Run data is saved locally in \u001b[35m\u001b[1m/content/wandb/run-20230920_091042-eszzkx89\u001b[0m\n",
            "\u001b[34m\u001b[1mwandb\u001b[0m: Run \u001b[1m`wandb offline`\u001b[0m to turn off syncing.\n",
            "\u001b[34m\u001b[1mwandb\u001b[0m: Syncing run \u001b[33mdeep-cloud-3\u001b[0m\n",
            "\u001b[34m\u001b[1mwandb\u001b[0m: ⭐️ View project at \u001b[34m\u001b[4mhttps://wandb.ai/tejas86/profit_curves\u001b[0m\n",
            "\u001b[34m\u001b[1mwandb\u001b[0m: 🚀 View run at \u001b[34m\u001b[4mhttps://wandb.ai/tejas86/profit_curves/runs/eszzkx89\u001b[0m\n"
          ]
        }
      ],
      "source": [
        "# Let's start our third run here. Because it's a synthtic dataset, we'll use tags to indicate that\n",
        "run3 = wandb.init(project=\"profit_curves\", tags=[\"synthetic_data\"])"
      ]
    },
    {
      "cell_type": "code",
      "execution_count": 21,
      "metadata": {
        "id": "h6OQv-40VV1q",
        "colab": {
          "base_uri": "https://localhost:8080/"
        },
        "outputId": "de350fda-6d84-4811-abb7-6f114b3a3e8e"
      },
      "outputs": [
        {
          "output_type": "stream",
          "name": "stdout",
          "text": [
            "closeness_factor: 0.00.   AUC of synthetic data: 0.82\n",
            "closeness_factor: 0.02.   AUC of synthetic data: 0.83\n",
            "closeness_factor: 0.04.   AUC of synthetic data: 0.85\n",
            "closeness_factor: 0.06.   AUC of synthetic data: 0.86\n",
            "closeness_factor: 0.08.   AUC of synthetic data: 0.87\n",
            "closeness_factor: 0.10.   AUC of synthetic data: 0.88\n",
            "closeness_factor: 0.12.   AUC of synthetic data: 0.89\n",
            "closeness_factor: 0.14.   AUC of synthetic data: 0.90\n",
            "closeness_factor: 0.16.   AUC of synthetic data: 0.91\n",
            "closeness_factor: 0.18.   AUC of synthetic data: 0.92\n",
            "closeness_factor: 0.20.   AUC of synthetic data: 0.93\n"
          ]
        }
      ],
      "source": [
        "def make_synth_accurate_data(y_pred, y_true, closeness_factor=0.1):\n",
        "    \"\"\"Create synthetic data that is accurate.\n",
        "\n",
        "    Args:\n",
        "        y_pred (array-like): Predicted probabilities.\n",
        "        y_true (array-like): True labels.\n",
        "        closeness_factor (float): A measure of how much to increase the accuracy of the synthetic data.\n",
        "\n",
        "    Returns:\n",
        "        array: Synthetic data.\n",
        "    \"\"\"\n",
        "    errors = y_pred - y_true\n",
        "    synth_data = y_pred - errors * closeness_factor\n",
        "    synth_data_AUC = roc_auc_score(y_true, synth_data)\n",
        "    print(\n",
        "        f\"closeness_factor: {closeness_factor:.2f}.   AUC of synthetic data: {synth_data_AUC:.2f}\"\n",
        "    )\n",
        "    return synth_data\n",
        "\n",
        "\n",
        "for i in np.linspace(0, 0.2, 11):\n",
        "    make_synth_accurate_data(y_pred, y_test, i)"
      ]
    },
    {
      "cell_type": "markdown",
      "metadata": {
        "id": "V40-i-ELVV1r"
      },
      "source": [
        "A closeness factor of 0.14 creates synthetic data that's a proxy for how good we expect predictions to be after this modeling improvement (recall that we hypothesized the modeling improvement would yield an AUC of 0.9)"
      ]
    },
    {
      "cell_type": "code",
      "execution_count": 22,
      "metadata": {
        "id": "mgf9-A-kVV1s",
        "colab": {
          "base_uri": "https://localhost:8080/"
        },
        "outputId": "5a06a35e-4371-4d99-86cb-0d47de44a3df"
      },
      "outputs": [
        {
          "output_type": "stream",
          "name": "stdout",
          "text": [
            "closeness_factor: 0.14.   AUC of synthetic data: 0.90\n",
            "\n",
            "Sanity check that means make sense:\n",
            "0.262\n",
            "0.262\n",
            "0.261\n",
            "\n"
          ]
        }
      ],
      "source": [
        "synth_preds = make_synth_accurate_data(y_pred, y_test, 0.14)\n",
        "print(\n",
        "    f\"\"\"\n",
        "Sanity check that means make sense:\n",
        "{synth_preds.mean():.3f}\n",
        "{y_pred.mean():.3f}\n",
        "{y_test.mean():.3f}\n",
        "\"\"\"\n",
        ")"
      ]
    },
    {
      "cell_type": "markdown",
      "metadata": {
        "id": "jwR9ZsBsVV1s"
      },
      "source": [
        "Now show profit curves we expect after this modeling improvement. We'll compare it to the profit curve from the best model built so far."
      ]
    },
    {
      "cell_type": "code",
      "execution_count": 23,
      "metadata": {
        "id": "EhFoeSwMVV1t",
        "colab": {
          "base_uri": "https://localhost:8080/"
        },
        "outputId": "17e0be62-f375-41c2-eeeb-cfc5f7b3e59a"
      },
      "outputs": [
        {
          "output_type": "stream",
          "name": "stdout",
          "text": [
            "closeness_factor: 0.14.   AUC of synthetic data: 0.90\n",
            "Ideal threshold is 0.14 which yields profits of $44880\n"
          ]
        }
      ],
      "source": [
        "synth_preds = make_synth_accurate_data(y_pred, y_test, 0.14)\n",
        "roc_auc = roc_auc_score(y_test, synth_preds)\n",
        "log_loss_val = log_loss(y_test, synth_preds)\n",
        "\n",
        "# Log metrics to W&B\n",
        "wandb.log({\"roc_auc\": roc_auc, \"log_loss\": log_loss_val})\n",
        "synth_pred_thresholds, synth_pred_profits = profit_curve(y_test, synth_preds, payoff_matrix)\n",
        "log_profit_curve(synth_pred_thresholds, synth_pred_profits)\n",
        "synth_best_thresh, synth_best_profits = find_best_threshold_and_profit(synth_pred_thresholds, synth_pred_profits)\n",
        "wandb.log({\"best_threshold\": synth_best_thresh, \"best_profit\": synth_best_profits})\n",
        "print(f\"Ideal threshold is {synth_best_thresh:.2f} which yields profits of ${synth_best_profits:.0f}\")"
      ]
    },
    {
      "cell_type": "code",
      "execution_count": 24,
      "metadata": {
        "id": "3ZD_YqE0VV1t",
        "colab": {
          "base_uri": "https://localhost:8080/"
        },
        "outputId": "706e4248-91e5-4ddd-a5dc-df5500108227"
      },
      "outputs": [
        {
          "output_type": "stream",
          "name": "stderr",
          "text": [
            "\u001b[34m\u001b[1mwandb\u001b[0m: Waiting for W&B process to finish... \u001b[32m(success).\u001b[0m\n",
            "\u001b[34m\u001b[1mwandb\u001b[0m: \n",
            "\u001b[34m\u001b[1mwandb\u001b[0m: Run history:\n",
            "\u001b[34m\u001b[1mwandb\u001b[0m:    best_profit ▁\n",
            "\u001b[34m\u001b[1mwandb\u001b[0m: best_threshold ▁\n",
            "\u001b[34m\u001b[1mwandb\u001b[0m:       log_loss ▁\n",
            "\u001b[34m\u001b[1mwandb\u001b[0m:        roc_auc ▁\n",
            "\u001b[34m\u001b[1mwandb\u001b[0m: \n",
            "\u001b[34m\u001b[1mwandb\u001b[0m: Run summary:\n",
            "\u001b[34m\u001b[1mwandb\u001b[0m:    best_profit 44880\n",
            "\u001b[34m\u001b[1mwandb\u001b[0m: best_threshold 0.14\n",
            "\u001b[34m\u001b[1mwandb\u001b[0m:       log_loss 0.33139\n",
            "\u001b[34m\u001b[1mwandb\u001b[0m:        roc_auc 0.90083\n",
            "\u001b[34m\u001b[1mwandb\u001b[0m: \n",
            "\u001b[34m\u001b[1mwandb\u001b[0m: 🚀 View run \u001b[33mdeep-cloud-3\u001b[0m at: \u001b[34m\u001b[4mhttps://wandb.ai/tejas86/profit_curves/runs/eszzkx89\u001b[0m\n",
            "\u001b[34m\u001b[1mwandb\u001b[0m: Synced 5 W&B file(s), 1 media file(s), 1 artifact file(s) and 0 other file(s)\n",
            "\u001b[34m\u001b[1mwandb\u001b[0m: Find logs at: \u001b[35m\u001b[1m./wandb/run-20230920_091042-eszzkx89/logs\u001b[0m\n"
          ]
        }
      ],
      "source": [
        "wandb.finish()"
      ]
    },
    {
      "cell_type": "markdown",
      "metadata": {
        "id": "uI2XURFyVV1u"
      },
      "source": [
        "## Beyond Simple-Number Decision Thresholds"
      ]
    },
    {
      "cell_type": "code",
      "execution_count": 25,
      "metadata": {
        "id": "eTS1XFc6VV1u",
        "colab": {
          "base_uri": "https://localhost:8080/",
          "height": 467
        },
        "outputId": "5ccccdd4-9333-497e-a108-1279fe600516"
      },
      "outputs": [
        {
          "output_type": "execute_result",
          "data": {
            "text/plain": [
              "<Axes: >"
            ]
          },
          "metadata": {},
          "execution_count": 25
        },
        {
          "output_type": "display_data",
          "data": {
            "text/plain": [
              "<Figure size 640x480 with 1 Axes>"
            ],
            "image/png": "[encoded data removed]"
          },
          "metadata": {}
        }
      ],
      "source": [
        "data.MonthlyCharges.hist()"
      ]
    },
    {
      "cell_type": "code",
      "execution_count": 26,
      "metadata": {
        "id": "_jPDhI67VV1u"
      },
      "outputs": [],
      "source": [
        "# Previously assumed this was 200 for all customers.\n",
        "# Mean MonthlyCharge is 68\n",
        "X_test[\"value_of_promoting_to_churning_customer\"] = data.MonthlyCharges * 3\n",
        "\n",
        "# Previously assumed this was -80 for all customers.\n",
        "X_test[\"cost_of_promoting_to_non_churning_customer\"] = -80"
      ]
    },
    {
      "cell_type": "code",
      "execution_count": 27,
      "metadata": {
        "id": "qzCqfjK0VV1v"
      },
      "outputs": [],
      "source": [
        "def group_specific_profit_curve(X_test, y_test, y_pred, low_thresh, high_thresh):\n",
        "    in_group = (X_test.MonthlyCharges > low_thresh) & (\n",
        "        X_test.MonthlyCharges <= high_thresh\n",
        "    )\n",
        "    y_test_in_group = y_test[in_group]\n",
        "    y_pred_in_group = y_pred[in_group]\n",
        "    mean_monthly_charge = X_test.MonthlyCharges[in_group].mean()\n",
        "    payoff_matrix = np.array([[0, -80], [0, 3 * mean_monthly_charge]])\n",
        "    thresholds, profits = profit_curve(y_test_in_group, y_pred_in_group, payoff_matrix)\n",
        "    best_thresh, best_profits = find_best_threshold_and_profit(thresholds, profits)\n",
        "    return best_thresh, best_profits"
      ]
    },
    {
      "cell_type": "markdown",
      "metadata": {
        "id": "yvqMUci5VV1v"
      },
      "source": [
        "Divide customers into three groups and assign different thresholds for each"
      ]
    },
    {
      "cell_type": "code",
      "execution_count": 28,
      "metadata": {
        "id": "LMu18MWgVV1v",
        "colab": {
          "base_uri": "https://localhost:8080/"
        },
        "outputId": "c35d29a9-b336-404c-87c1-84145bbf62bb"
      },
      "outputs": [
        {
          "output_type": "stream",
          "name": "stdout",
          "text": [
            "\n",
            "With flexible thresholds, the profit is 44919.\n",
            "Previous profit was 32360\n"
          ]
        }
      ],
      "source": [
        "# Find ideal threshold for customers paying less than $20/month\n",
        "thresh_low, profits_low = group_specific_profit_curve(X_test, y_test, y_pred, 0, 20)\n",
        "# Find ideal threshold for customers paying between $20 and $60/month\n",
        "thresh_medium, profits_medium = group_specific_profit_curve(\n",
        "    X_test, y_test, y_pred, 20, 60\n",
        ")\n",
        "# Find ideal threshold for customers paying between $60 and $100/month\n",
        "thresh_high, profits_high = group_specific_profit_curve(X_test, y_test, y_pred, 60, 100)\n",
        "# Find ideal threshold for customers paying more than $100/month\n",
        "thresh_very_high, profits_very_high = group_specific_profit_curve(\n",
        "    X_test, y_test, y_pred, 100, 200\n",
        ")\n",
        "\n",
        "print(\n",
        "    f\"\"\"\n",
        "With flexible thresholds, the profit is {(profits_low + profits_medium + profits_high + profits_very_high):.0f}.\n",
        "Previous profit was {best_profits}\"\"\"\n",
        ")"
      ]
    },
    {
      "cell_type": "code",
      "execution_count": null,
      "metadata": {
        "id": "bXguVvLoVV1v"
      },
      "outputs": [],
      "source": []
    },
    {
      "cell_type": "code",
      "execution_count": null,
      "metadata": {
        "id": "rB7_VsgPVV1w"
      },
      "outputs": [],
      "source": []
    },
    {
      "cell_type": "code",
      "execution_count": null,
      "metadata": {
        "id": "J8qOLwEAVV1w"
      },
      "outputs": [],
      "source": []
    }
  ],
  "metadata": {
    "kernelspec": {
      "display_name": "Python 3",
      "name": "python3"
    },
    "language_info": {
      "codemirror_mode": {
        "name": "ipython",
        "version": 3
      },
      "file_extension": ".py",
      "mimetype": "text/x-python",
      "name": "python",
      "nbconvert_exporter": "python",
      "pygments_lexer": "ipython3",
      "version": "3.8.13"
    },
    "vscode": {
      "interpreter": {
        "hash": "9b52454ccac6a5061b9956402f9b0126832d9d09240c85a0ef34ec847cbca41c"
      }
    },
    "colab": {
      "provenance": [],
      "include_colab_link": true
    }
  },
  "nbformat": 4,
  "nbformat_minor": 0
}